{
 "cells": [
  {
   "cell_type": "markdown",
   "metadata": {},
   "source": [
    "# Solutions for Assignment 5: Exploring Yelp Reviews in Philadelphia\n",
    "\n",
    "In this assignment, we'll explore restaurant review data available through the [Yelp Dataset Challenge](https://www.yelp.com/dataset). The dataset includes Yelp data for user reviews and business information for many metropolitan areas. I've already downloaded this dataset (8 GB total!) and extracted out the data files for reviews and restaurants in Philadelphia. I've placed these data files into the `data` directory in this repository. \n",
    "\n",
    "This assignment is broken into two parts:\n",
    "\n",
    "**Part 1:** Analyzing correlations between restaurant reviews and census data\n",
    "\n",
    "We'll explore the relationship between restaurant reviews and the income levels of the restaurant's surrounding area.\n",
    "\n",
    "**Part 2:** Exploring the impact of fast food restaurants\n",
    "\n",
    "We'll run a sentiment analysis on reviews of fast food restaurants and estimate income levels in neighborhoods with fast food restaurants. We'll test how well our sentiment analysis works by comparing the number of stars to the sentiment of reviews.\n",
    "\n",
    "\n",
    "**Background readings**\n",
    "- [Does sentiment analysis work?](http://varianceexplained.org/r/yelp-sentiment/)\n",
    "- [The Geography of Taste: Using Yelp to Study Urban Culture](https://www.mdpi.com/2220-9964/7/9/376/pdf/1)"
   ]
  },
  {
   "cell_type": "markdown",
   "metadata": {},
   "source": [
    "## 1. Correlating restaurant ratings and income levels\n",
    "\n",
    "In this part, we'll use the census API to download household income data and explore how it correlates with restaurant review data."
   ]
  },
  {
   "cell_type": "markdown",
   "metadata": {},
   "source": [
    "### 1.1 Query the Census API\n",
    "\n",
    "Use the `cenpy` package to download **median household income in the past 12 months** by census tract from the 2021 ACS 5-year data set for your county of interest.\n",
    "\n",
    "You have two options to find the correct variable names:\n",
    "- Search through: [https://api.census.gov/data/2021/acs/acs5/variables.html](https://api.census.gov/data/2021/acs/acs5/variables.html)\n",
    "- Initialize an API connection and use the `.varslike()` function to search for the proper keywords \n",
    "\n",
    "At the end of this step, you should have a pandas DataFrame holding the income data for all census tracts within the county being analyzed. Feel free to rename your variable from the ACS so it has a more meaningful name!\n",
    "\n",
    "::: {.callout-caution}\n",
    "Some census tracts won't have any value because there are not enough households in that tract. The census will use a negative number as a default value for those tracts. You can safely remove those tracts from the analysis!\n",
    ":::"
   ]
  },
  {
   "cell_type": "code",
   "execution_count": null,
   "metadata": {},
   "outputs": [],
   "source": []
  },
  {
   "cell_type": "markdown",
   "metadata": {},
   "source": [
    "### 1.2 Download census tracts from the Census and merge the data from part 1.1\n",
    "\n",
    "- Download census tracts for the desired geography using the `pygris` package\n",
    "- Merge the downloaded census tracts with the household income DataFrame"
   ]
  },
  {
   "cell_type": "code",
   "execution_count": null,
   "metadata": {},
   "outputs": [],
   "source": []
  },
  {
   "cell_type": "markdown",
   "metadata": {
    "tags": []
   },
   "source": [
    "### 1.3 Load the restaurants data\n",
    "\n",
    "The Yelp dataset includes data for 7,350 restaurants across the city. Load the data from the `data/` folder and use the `latitude` and `longitude` columns to create a GeoDataFrame after loading the JSON data. Be sure to set the right CRS on when initializing the GeoDataFrame!\n",
    "\n",
    "**Notes**\n",
    "\n",
    "The JSON data is in a \"records\" format. To load it, you'll need to pass the following keywords: \n",
    "\n",
    "- `orient='records'`\n",
    "- `lines=True`"
   ]
  },
  {
   "cell_type": "code",
   "execution_count": null,
   "metadata": {},
   "outputs": [],
   "source": []
  },
  {
   "cell_type": "markdown",
   "metadata": {},
   "source": [
    "### 1.4 Add tract info for each restaurant\n",
    "\n",
    "Do a spatial join to identify which census tract each restaurant is within. Make sure each dataframe has the same CRS!\n",
    "\n",
    "At the end of this step, you should have a new dataframe with a column identifying the tract number for each restaurant."
   ]
  },
  {
   "cell_type": "code",
   "execution_count": null,
   "metadata": {},
   "outputs": [],
   "source": []
  },
  {
   "cell_type": "markdown",
   "metadata": {},
   "source": [
    "### 1.5 Add income data to your restaurant data\n",
    "\n",
    "Add the income data to your dataframe from the previous step, merging the census data based on the tract that each restaurant is within."
   ]
  },
  {
   "cell_type": "code",
   "execution_count": null,
   "metadata": {},
   "outputs": [],
   "source": []
  },
  {
   "cell_type": "markdown",
   "metadata": {},
   "source": [
    "### 1.6 Make a plot of median household income vs. Yelp stars\n",
    "\n",
    "Our dataset has the number of stars for each restaurant, rounded to the nearest 0.5 star. In this step, create a line plot that shows the average income value for each stars category (e.g., all restaurants with 1 star, 1.5 stars, 2 stars, etc.)\n",
    "\n",
    "While their are multiple ways to do this, the [seaborn.lineplot()](https://seaborn.pydata.org/generated/seaborn.lineplot.html) is a great option. This can show the average value in each category as well as 95% uncertainty intervals. Use this function to plot the stars (\"x\") vs. average income (\"y\") for all of our restaurants, using the dataframe from last step. Be sure to format your figure to make it look nice!\n",
    "\n",
    "**Question:** Is there a correlation between a restaurant's ratings and the income levels of its surrounding neighborhood?"
   ]
  },
  {
   "cell_type": "code",
   "execution_count": null,
   "metadata": {},
   "outputs": [],
   "source": []
  },
  {
   "cell_type": "markdown",
   "metadata": {},
   "source": [
    "## 2. Fast food trends in Philadelphia\n",
    "\n",
    "At the end of part 1, you should have seen a strong trend where higher income tracts generally had restaurants with better reviews. In this section, we'll explore the impact of fast food restaurants and how they might be impacting this trend. \n",
    "\n",
    "**Hypothesis**\n",
    "\n",
    "1. Fast food restaurants are predominantly located in areas with lower median income levels. \n",
    "1. Fast food restaurants have worse reviews compared to typical restaurants. \n",
    "\n",
    "If true, these two hypotheses could help to explain the trend we found in part 1. Let's dive in and test our hypotheses!"
   ]
  },
  {
   "cell_type": "markdown",
   "metadata": {},
   "source": [
    "### 2.1 Identify fast food restaurants\n",
    "\n",
    "The \"categories\" column in our dataset contains multiple classifications for each restaurant. One such category is \"Fast Food\". In this step, add a new column called \"is_fast_food\" that is `True` if the \"categories\" column contains the term \"Fast Food\" and `False` otherwise"
   ]
  },
  {
   "cell_type": "code",
   "execution_count": null,
   "metadata": {},
   "outputs": [],
   "source": []
  },
  {
   "cell_type": "markdown",
   "metadata": {},
   "source": [
    "### 2.2 Calculate the median income for fast food and otherwise\n",
    "\n",
    "Group by the \"is_fast_food\" column and calculate the median income for restaurants that are and are not fast food. You should find that income levels are lower in tracts with fast food.\n",
    "\n",
    "*Note:* this is just an estimate, since we are calculating a median of median income values."
   ]
  },
  {
   "cell_type": "code",
   "execution_count": null,
   "metadata": {},
   "outputs": [],
   "source": []
  },
  {
   "cell_type": "markdown",
   "metadata": {},
   "source": [
    "### 2.3 Load fast food review data\n",
    "\n",
    "In the rest of part 2, we're going to run a sentiment analysis on the reviews for fast food restaurants. \n",
    "The review data for all fast food restaurants identified in part 2.1 is already stored in the `data/` folder. The data is stored as a JSON file and you can use `pandas.read_json` to load it. \n",
    "\n",
    "**Notes**\n",
    "\n",
    "The JSON data is in a \"records\" format. To load it, you'll need to pass the following keywords: \n",
    "\n",
    "- `orient='records'`\n",
    "- `lines=True`"
   ]
  },
  {
   "cell_type": "code",
   "execution_count": null,
   "metadata": {},
   "outputs": [],
   "source": []
  },
  {
   "cell_type": "markdown",
   "metadata": {},
   "source": [
    "### 2.4 Trim to the most popular fast food restaurants\n",
    "\n",
    "There's too many reviews to run a sentiment analysis on all of them in a reasonable time. Let's trim our reviews dataset to the most popular fast food restaurants, using the list provided below.\n",
    "\n",
    "You will need to get the \"business_id\" values for each of these restaurants from the restaurants data loaded in part 1.3. Then, trim the reviews data to include reviews only for those business IDs."
   ]
  },
  {
   "cell_type": "code",
   "execution_count": 87,
   "metadata": {
    "tags": []
   },
   "outputs": [],
   "source": [
    "popular_fast_food = [\n",
    "    \"McDonald's\",\n",
    "    \"Wendy's\",\n",
    "    \"Subway\",\n",
    "    \"Popeyes Louisiana Kitchen\",\n",
    "    \"Taco Bell\",\n",
    "    \"KFC\",\n",
    "    \"Burger King\",\n",
    "]"
   ]
  },
  {
   "cell_type": "code",
   "execution_count": null,
   "metadata": {},
   "outputs": [],
   "source": []
  },
  {
   "cell_type": "markdown",
   "metadata": {},
   "source": [
    "### 2.5 Run the emotions classifier on fast food reviews\n",
    "\n",
    "Run a sentiment analysis on the reviews data from the previous step. Use the [DistilBERT model](https://huggingface.co/bhadresh-savani/distilbert-base-uncased-emotion) that can predict emotion labels (anger, fear, sadness, joy, love, and surprise). Transform the result from the classifier into a DataFrame so that you have a column for each of the emotion labels."
   ]
  },
  {
   "cell_type": "code",
   "execution_count": null,
   "metadata": {},
   "outputs": [],
   "source": []
  },
  {
   "cell_type": "markdown",
   "metadata": {},
   "source": [
    "### 2.6 Identify the predicted emotion for each text\n",
    "\n",
    "Use the pandas [idxmax()](https://pandas.pydata.org/pandas-docs/stable/reference/api/pandas.DataFrame.idxmax.html) to identify the predicted emotion for each review, and add this value to a new column called \"prediction\"\n",
    "\n",
    "The predicted emotion has the highest confidence score across all emotion labels for a particular label."
   ]
  },
  {
   "cell_type": "code",
   "execution_count": null,
   "metadata": {},
   "outputs": [],
   "source": []
  },
  {
   "cell_type": "markdown",
   "metadata": {},
   "source": [
    "### 2.7 Combine the ratings and sentiment data\n",
    "\n",
    "Combine the data from part 2.4 (reviews data) and part 2.6 (emotion data). Use the `pd.concat()` function and combine along the column axis.\n",
    "\n",
    "**Note:** You'll need to reset the index of your reviews data frame so it matches the emotion data index (it should run from 0 to the length of the data - 1).\n"
   ]
  },
  {
   "cell_type": "code",
   "execution_count": null,
   "metadata": {},
   "outputs": [],
   "source": []
  },
  {
   "cell_type": "markdown",
   "metadata": {},
   "source": [
    "### 2.8 Plot sentiment vs. stars\n",
    "\n",
    "We now have a dataframe with the predicted primary emotion for each review and the associated number of stars for each review. Let's explore two questions:\n",
    "\n",
    "1. Does sentiment analysis work? Do reviews with fewer stars have negative emotions?\n",
    "1. For our fast food restaurants, are reviews generally positive or negative? \n",
    "\n",
    "Use seaborn's [histplot()](https://seaborn.pydata.org/generated/seaborn.histplot.html) to make a stacked bar chart showing the breakdown of each emotion for each stars category (1 star, 2 stars, etc.). A few notes:\n",
    "\n",
    "- To stack multiple emotion labels in one bar, use the `multiple=\"stack\"` keyword\n",
    "- The `discrete=True` can be helpful to tell seaborn our stars values are discrete categories\n"
   ]
  },
  {
   "cell_type": "code",
   "execution_count": null,
   "metadata": {},
   "outputs": [],
   "source": []
  },
  {
   "cell_type": "markdown",
   "metadata": {},
   "source": [
    "**Question:** What does your chart indicate for the effectiveness of our sentiment analysis? Does our original hypothesis about fast food restaurants seem plausible?"
   ]
  },
  {
   "cell_type": "code",
   "execution_count": null,
   "metadata": {},
   "outputs": [],
   "source": []
  }
 ],
 "metadata": {
  "kernelspec": {
   "display_name": "Python 3 (ipykernel)",
   "language": "python",
   "name": "python3"
  },
  "language_info": {
   "codemirror_mode": {
    "name": "ipython",
    "version": 3
   },
   "file_extension": ".py",
   "mimetype": "text/x-python",
   "name": "python",
   "nbconvert_exporter": "python",
   "pygments_lexer": "ipython3",
   "version": "3.10.12"
  }
 },
 "nbformat": 4,
 "nbformat_minor": 4
}
